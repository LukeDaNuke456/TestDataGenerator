{
 "cells": [
  {
   "cell_type": "code",
   "execution_count": 54,
   "metadata": {},
   "outputs": [],
   "source": [
    "import os\n",
    "#Start the virtual enviorment\n",
    "virtual_env_path = '.\\\\my_virtual_env'\n",
    "activate_command = f'{virtual_env_path}\\\\Scripts\\\\activate'\n",
    "!{activate_command}\n"
   ]
  },
  {
   "cell_type": "code",
   "execution_count": 55,
   "metadata": {},
   "outputs": [
    {
     "name": "stdout",
     "output_type": "stream",
     "text": [
      "Venv is activated\n"
     ]
    }
   ],
   "source": [
    "#Check to see if the virtual env is running\n",
    "def is_env_activated():\n",
    "    return os.getenv('VIRTUAL_ENV')\n",
    "if is_env_activated():\n",
    "    print(\"Venv is activated\")\n",
    "else:\n",
    "    print(\"Venv is not activated\")"
   ]
  },
  {
   "cell_type": "code",
   "execution_count": 57,
   "metadata": {},
   "outputs": [
    {
     "name": "stdout",
     "output_type": "stream",
     "text": [
      "How many vehicle's do you want in your inventory? : \n",
      "---------------------------------\n",
      "\n",
      "Vehicle ID: 1\n",
      "Year: 2023\n",
      "Make: Toyota\n",
      "Model: Camry\n",
      "Mileage: 35812 miles\n",
      "\n",
      "Vehicle ID: 2\n",
      "Year: 2021\n",
      "Make: Toyota\n",
      "Model: Rav4\n",
      "Mileage: 86705 miles\n",
      "\n",
      "Vehicle ID: 3\n",
      "Year: 2021\n",
      "Make: Honda\n",
      "Model: Civic\n",
      "Mileage: 80460 miles\n",
      "\n",
      "Vehicle ID: 4\n",
      "Year: 2021\n",
      "Make: Ford\n",
      "Model: Ranger\n",
      "Mileage: 72094 miles\n",
      "\n",
      "Vehicle ID: 5\n",
      "Year: 2022\n",
      "Make: Ford\n",
      "Model: Ranger\n",
      "Mileage: 35831 miles\n",
      "\n",
      "---------------------------------\n",
      "\n"
     ]
    }
   ],
   "source": [
    "#Run Test Data\n",
    "exec(open(\".\\\\createtestdata.py\").read())\n"
   ]
  },
  {
   "cell_type": "code",
   "execution_count": 56,
   "metadata": {},
   "outputs": [
    {
     "name": "stdout",
     "output_type": "stream",
     "text": [
      "Venv is deactivaed!\n"
     ]
    }
   ],
   "source": [
    "#Deactivate Venv\n",
    "deactivate_command = 'deactivate'\n",
    "!{deactivate_command}\n",
    "\n",
    "def is_env_activated():\n",
    "    return os.getenv('VIRTUAL_ENV') is None\n",
    "if is_env_activated():\n",
    "   print(\"Venv is still activated\") \n",
    "else:\n",
    "    print(\"Venv is deactivaed!\")"
   ]
  }
 ],
 "metadata": {
  "kernelspec": {
   "display_name": "Python 3",
   "language": "python",
   "name": "python3"
  },
  "language_info": {
   "codemirror_mode": {
    "name": "ipython",
    "version": 3
   },
   "file_extension": ".py",
   "mimetype": "text/x-python",
   "name": "python",
   "nbconvert_exporter": "python",
   "pygments_lexer": "ipython3",
   "version": "3.11.1"
  }
 },
 "nbformat": 4,
 "nbformat_minor": 2
}
