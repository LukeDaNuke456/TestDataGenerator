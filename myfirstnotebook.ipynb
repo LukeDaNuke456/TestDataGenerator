{
 "cells": [
  {
   "cell_type": "code",
   "execution_count": 54,
   "metadata": {},
   "outputs": [],
   "source": [
    "import os\n",
    "#Start the virtual enviorment\n",
    "virtual_env_path = '.\\\\my_virtual_env'\n",
    "activate_command = f'{virtual_env_path}\\\\Scripts\\\\activate'\n",
    "!{activate_command}\n"
   ]
  },
  {
   "cell_type": "code",
   "execution_count": 55,
   "metadata": {},
   "outputs": [
    {
     "name": "stdout",
     "output_type": "stream",
     "text": [
      "Venv is activated\n"
     ]
    }
   ],
   "source": [
    "#Check to see if the virtual env is running\n",
    "def is_env_activated():\n",
    "    return os.getenv('VIRTUAL_ENV')\n",
    "if is_env_activated():\n",
    "    print(\"Venv is activated\")\n",
    "else:\n",
    "    print(\"Venv is not activated\")"
   ]
  },
  {
   "cell_type": "code",
   "execution_count": null,
   "metadata": {},
   "outputs": [],
   "source": []
  },
  {
   "cell_type": "code",
   "execution_count": 56,
   "metadata": {},
   "outputs": [
    {
     "name": "stdout",
     "output_type": "stream",
     "text": [
      "Venv is deactivaed!\n"
     ]
    }
   ],
   "source": [
    "#Deactivate Venv\n",
    "deactivate_command = 'deactivate'\n",
    "!{deactivate_command}\n",
    "\n",
    "def is_env_activated():\n",
    "    return os.getenv('VIRTUAL_ENV') is None\n",
    "if is_env_activated():\n",
    "   print(\"Venv is still activated\") \n",
    "else:\n",
    "    print(\"Venv is deactivaed!\")"
   ]
  }
 ],
 "metadata": {
  "kernelspec": {
   "display_name": "Python 3",
   "language": "python",
   "name": "python3"
  },
  "language_info": {
   "codemirror_mode": {
    "name": "ipython",
    "version": 3
   },
   "file_extension": ".py",
   "mimetype": "text/x-python",
   "name": "python",
   "nbconvert_exporter": "python",
   "pygments_lexer": "ipython3",
   "version": "3.11.1"
  }
 },
 "nbformat": 4,
 "nbformat_minor": 2
}
